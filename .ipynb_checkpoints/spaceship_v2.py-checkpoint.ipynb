{
 "cells": [
  {
   "cell_type": "code",
   "execution_count": 453,
   "id": "9547ca27",
   "metadata": {},
   "outputs": [],
   "source": [
    "import pandas as pd\n",
    "import numpy as np\n",
    "import matplotlib.pyplot as plt\n",
    "from tqdm import tqdm\n",
    "from sklearn.preprocessing import OneHotEncoder\n",
    "from sklearn.impute import SimpleImputer\n",
    "\n",
    "from sklearn.feature_selection import SelectKBest\n",
    "from sklearn.feature_selection import chi2, f_classif\n",
    "from sklearn.preprocessing import LabelBinarizer\n",
    "from sklearn.preprocessing import StandardScaler\n",
    "\n",
    "from sklearn.linear_model import LogisticRegression, SGDClassifier\n",
    "from sklearn.discriminant_analysis import LinearDiscriminantAnalysis\n",
    "from sklearn.neighbors import KNeighborsClassifier\n",
    "from sklearn.tree import DecisionTreeClassifier\n",
    "from sklearn.naive_bayes import GaussianNB\n",
    "from sklearn.svm import SVC\n",
    "from sklearn.ensemble import (\n",
    "  AdaBoostClassifier, HistGradientBoostingClassifier, GradientBoostingClassifier,\n",
    "  RandomForestClassifier, ExtraTreesClassifier\n",
    ")\n",
    "from xgboost import XGBClassifier\n",
    "\n",
    "from sklearn.model_selection import train_test_split\n",
    "from sklearn.model_selection import KFold, cross_val_score"
   ]
  },
  {
   "cell_type": "code",
   "execution_count": 454,
   "id": "cd3ea9ca",
   "metadata": {},
   "outputs": [],
   "source": [
    "train_data = pd.read_csv('datasets/train.csv')[:1000]"
   ]
  },
  {
   "cell_type": "code",
   "execution_count": 455,
   "id": "113ebc32",
   "metadata": {},
   "outputs": [],
   "source": [
    "y = train_data.pop('Transported')\n",
    "lb = LabelBinarizer()\n",
    "lb.fit(y)\n",
    "binary_labels = lb.transform(y)"
   ]
  },
  {
   "cell_type": "code",
   "execution_count": 456,
   "id": "efeb93b0",
   "metadata": {},
   "outputs": [],
   "source": [
    "imputer = SimpleImputer(strategy='most_frequent')\n",
    "col = ['PassengerId','HomePlanet', 'CryoSleep', 'Cabin', 'Destination','VIP']\n",
    "df_imputed = pd.DataFrame(imputer.fit_transform(train_data[col]), columns=train_data[col].columns)\n",
    "\n",
    "encoder = OneHotEncoder()\n",
    "encoded = encoder.fit_transform(df_imputed[col]).toarray()\n",
    "encoded_df = pd.DataFrame(encoded, columns=encoder.get_feature_names_out(col))"
   ]
  },
  {
   "cell_type": "code",
   "execution_count": 457,
   "id": "27fdc5cc",
   "metadata": {},
   "outputs": [],
   "source": [
    "imputer2 = SimpleImputer(strategy='median')\n",
    "col2 = ['Age', 'RoomService', 'FoodCourt', 'ShoppingMall', 'Spa', 'VRDeck']\n",
    "df_imputed2 = pd.DataFrame(imputer2.fit_transform(train_data[col2]), columns=train_data[col2].columns)"
   ]
  },
  {
   "cell_type": "code",
   "execution_count": 458,
   "id": "58748ece",
   "metadata": {},
   "outputs": [],
   "source": [
    "X = pd.concat([df_imputed2, encoded_df], axis=1)"
   ]
  },
  {
   "cell_type": "code",
   "execution_count": 452,
   "id": "4f07a510",
   "metadata": {},
   "outputs": [],
   "source": [
    "# scaler = StandardScaler()\n",
    "\n",
    "# # Fit the scaler to the data\n",
    "# scaler.fit(X)\n",
    "\n",
    "# # # Transform the data using the scaler\n",
    "# X = pd.DataFrame(scaler.transform(X), columns=X.columns)"
   ]
  },
  {
   "cell_type": "code",
   "execution_count": 460,
   "id": "c2a4e1cc",
   "metadata": {},
   "outputs": [],
   "source": [
    "# Clean data; took care of all the nan values using SimpleImputer\n",
    "#X = pd.concat([x_scaled, encoded_df], axis=1)\n",
    "Y = binary_labels"
   ]
  },
  {
   "cell_type": "code",
   "execution_count": 443,
   "id": "ad36e60e",
   "metadata": {},
   "outputs": [],
   "source": [
    "# # Compare the algorithm\n",
    "# fig = plt.figure()\n",
    "# ax = fig.add_subplot()\n",
    "# plt.boxplot(results)\n",
    "# ax.set_xticklabels(names, rotation='vertical');"
   ]
  },
  {
   "cell_type": "code",
   "execution_count": 444,
   "id": "577f8ce1",
   "metadata": {},
   "outputs": [],
   "source": [
    "# New HIGH: 0.792, K: 570\n",
    "# 4083"
   ]
  },
  {
   "cell_type": "code",
   "execution_count": 445,
   "id": "7c2c30ab",
   "metadata": {},
   "outputs": [],
   "source": [
    "# # select best features using SelectKBest\n",
    "# K = np.random.randint(1, x.shape[1], size=10)\n",
    "# highest = 0.\n",
    "# for k in tqdm(K):\n",
    "#   sel = SelectKBest(f_classif, k=k)\n",
    "#   X = sel.fit_transform(x, Y.ravel())\n",
    "\n",
    "#   x_train, x_val, y_train, y_val = train_test_split(X, Y.ravel(), test_size=.1, shuffle=True, random_state=42, stratify=y)\n",
    "\n",
    "#   # Spot-check algorithm\n",
    "#   models = []\n",
    "#   models.append(('LR', LogisticRegression(solver='lbfgs', max_iter=1000)))\n",
    "#   #models.append(('LDA', LinearDiscriminantAnalysis()))\n",
    "#   #models.append(('KNN', KNeighborsClassifier()))\n",
    "#   #models.append(('NB', GaussianNB()))\n",
    "#   #models.append(('DT', DecisionTreeClassifier()))\n",
    "#   #models.append(('SGD', SGDClassifier()))\n",
    "\n",
    "#   #models.append(('AB', AdaBoostClassifier()))\n",
    "#   #models.append(('GDM', GradientBoostingClassifier()))\n",
    "#   #models.append(('HGB', HistGradientBoostingClassifier()))\n",
    "#   #models.append(('RF', RandomForestClassifier()))\n",
    "#   #models.append(('ET', ExtraTreesClassifier()))\n",
    "#   #models.append(('XG', XGBClassifier()))\n",
    "\n",
    "#   names, results = [], []\n",
    "#   n_folds = 20\n",
    "#   scoring = 'accuracy'\n",
    "#   for name, model in models:\n",
    "#     cv = KFold(n_splits=n_folds)\n",
    "#     cv_results = cross_val_score(model, x_train, y_train, cv=cv, scoring=scoring)\n",
    "\n",
    "#     results.append(cv_results)\n",
    "#     names.append(name)\n",
    "#     #print(f\"{name}: {cv_results.mean():.3f}\")\n",
    "#     if cv_results.mean() > highest:\n",
    "#       print(f\"New HIGH: {cv_results.mean():.3f}, K: {k}\")\n",
    "#       highest = cv_results.mean()\n",
    "    \n",
    "# #   # Compare the algorithm\n",
    "# #   fig = plt.figure()\n",
    "# #   ax = fig.add_subplot()\n",
    "# #   plt.boxplot(results)\n",
    "# #   ax.set_xticklabels(names, rotation='vertical');\n",
    "# #   plt.show()\n",
    "#   #print(\"*******\")"
   ]
  },
  {
   "cell_type": "code",
   "execution_count": 446,
   "id": "e4b78e85",
   "metadata": {},
   "outputs": [],
   "source": [
    "import torch\n",
    "from torch import nn, optim\n",
    "from torch.utils.data import Dataset, DataLoader\n",
    "from torchmetrics import Accuracy\n",
    "import torch.optim.lr_scheduler as lr_scheduler\n",
    "from hyperopt import fmin, tpe, hp"
   ]
  },
  {
   "cell_type": "code",
   "execution_count": 461,
   "id": "556720fd",
   "metadata": {},
   "outputs": [],
   "source": [
    "x_train, x_val, y_train, y_val = train_test_split(X.values, Y.ravel(), test_size=.2, shuffle=True, random_state=42)"
   ]
  },
  {
   "cell_type": "code",
   "execution_count": 451,
   "id": "d56490b4",
   "metadata": {},
   "outputs": [],
   "source": [
    "from hpsklearn import HyperoptEstimator, any_classifier, any_preprocessing\n",
    "from hyperopt import tpe"
   ]
  },
  {
   "cell_type": "code",
   "execution_count": 465,
   "id": "4f533555",
   "metadata": {},
   "outputs": [],
   "source": [
    "model = HyperoptEstimator(\n",
    "  classifier=any_classifier('cla'),\n",
    "  preprocessing=any_preprocessing('pre'),\n",
    "  algo=tpe.suggest,\n",
    "  max_evals=50,\n",
    ")"
   ]
  },
  {
   "cell_type": "code",
   "execution_count": 464,
   "id": "0eded460",
   "metadata": {},
   "outputs": [],
   "source": [
    "HyperoptEstimator?"
   ]
  },
  {
   "cell_type": "code",
   "execution_count": null,
   "id": "31901693",
   "metadata": {},
   "outputs": [],
   "source": []
  },
  {
   "cell_type": "code",
   "execution_count": null,
   "id": "064ab06d",
   "metadata": {},
   "outputs": [],
   "source": []
  },
  {
   "cell_type": "code",
   "execution_count": null,
   "id": "0e57bdf6",
   "metadata": {},
   "outputs": [],
   "source": []
  },
  {
   "cell_type": "code",
   "execution_count": null,
   "id": "e7e1f75a",
   "metadata": {},
   "outputs": [],
   "source": []
  },
  {
   "cell_type": "code",
   "execution_count": null,
   "id": "edcb4cd3",
   "metadata": {},
   "outputs": [],
   "source": []
  },
  {
   "cell_type": "code",
   "execution_count": null,
   "id": "cd4d7db7",
   "metadata": {},
   "outputs": [],
   "source": []
  },
  {
   "cell_type": "code",
   "execution_count": null,
   "id": "e35faa8b",
   "metadata": {},
   "outputs": [],
   "source": []
  },
  {
   "cell_type": "code",
   "execution_count": null,
   "id": "4a5e3683",
   "metadata": {},
   "outputs": [],
   "source": []
  },
  {
   "cell_type": "code",
   "execution_count": null,
   "id": "0e921880",
   "metadata": {},
   "outputs": [],
   "source": []
  },
  {
   "cell_type": "code",
   "execution_count": null,
   "id": "1f0b635a",
   "metadata": {},
   "outputs": [],
   "source": []
  },
  {
   "cell_type": "code",
   "execution_count": null,
   "id": "81ce4751",
   "metadata": {},
   "outputs": [],
   "source": []
  },
  {
   "cell_type": "code",
   "execution_count": null,
   "id": "0c7b43ae",
   "metadata": {},
   "outputs": [],
   "source": []
  },
  {
   "cell_type": "code",
   "execution_count": null,
   "id": "b2d18a59",
   "metadata": {},
   "outputs": [],
   "source": []
  },
  {
   "cell_type": "code",
   "execution_count": null,
   "id": "2f13e946",
   "metadata": {},
   "outputs": [],
   "source": []
  },
  {
   "cell_type": "code",
   "execution_count": null,
   "id": "20fdd5d8",
   "metadata": {},
   "outputs": [],
   "source": []
  },
  {
   "cell_type": "code",
   "execution_count": null,
   "id": "8f4733fe",
   "metadata": {},
   "outputs": [],
   "source": []
  },
  {
   "cell_type": "code",
   "execution_count": null,
   "id": "baef7cf0",
   "metadata": {},
   "outputs": [],
   "source": []
  },
  {
   "cell_type": "code",
   "execution_count": null,
   "id": "e7ca0d50",
   "metadata": {},
   "outputs": [],
   "source": []
  },
  {
   "cell_type": "code",
   "execution_count": null,
   "id": "f41d22fd",
   "metadata": {},
   "outputs": [],
   "source": []
  },
  {
   "cell_type": "code",
   "execution_count": null,
   "id": "739da394",
   "metadata": {},
   "outputs": [],
   "source": []
  },
  {
   "cell_type": "code",
   "execution_count": null,
   "id": "14d2df91",
   "metadata": {},
   "outputs": [],
   "source": []
  },
  {
   "cell_type": "code",
   "execution_count": null,
   "id": "7c59f4b7",
   "metadata": {},
   "outputs": [],
   "source": []
  },
  {
   "cell_type": "code",
   "execution_count": null,
   "id": "c5a6af49",
   "metadata": {},
   "outputs": [],
   "source": []
  },
  {
   "cell_type": "code",
   "execution_count": 329,
   "id": "308988fa",
   "metadata": {},
   "outputs": [],
   "source": [
    "class Net(nn.Module):\n",
    "  def __init__(self, in_features, out_features):\n",
    "    super().__init__()\n",
    "    self.l1 = nn.Linear(in_features, 4)\n",
    "    self.act1 = nn.ReLU()\n",
    "    self.l2 = nn.Linear(4, 4)\n",
    "    self.act2 = nn.ReLU()\n",
    "    self.l3 = nn.Linear(4, 3)\n",
    "    self.act3 = nn.ReLU()\n",
    "    \n",
    "    self.out = nn.Linear(3, out_features)\n",
    "    self.sigmoid = nn.Sigmoid()\n",
    "\n",
    "  def forward(self, x):\n",
    "    x = self.act1(self.l1(x))\n",
    "    x = self.act2(self.l2(x))\n",
    "    x = self.act3(self.l3(x))\n",
    "    x = self.sigmoid(self.out(x))\n",
    "    return x\n",
    "  \n",
    "class MyData(Dataset):\n",
    "  def __init__(self, x, y):\n",
    "    self.x = torch.tensor(x, dtype=torch.float32)\n",
    "    self.y = torch.tensor(y, dtype=torch.float32)\n",
    "\n",
    "  def __getitem__(self, idx):\n",
    "    return self.x[idx], self.y[idx]\n",
    "  \n",
    "  def __len__(self):\n",
    "    return len(self.x)"
   ]
  },
  {
   "cell_type": "code",
   "execution_count": 364,
   "id": "c8f6f956",
   "metadata": {},
   "outputs": [],
   "source": [
    "trainset = MyData(x_train, y_train)\n",
    "train_loader = DataLoader(trainset, batch_size=128, shuffle=False)\n",
    "\n",
    "valset = MyData(x_val, y_val)\n",
    "val_loader = DataLoader(valset, batch_size=128, shuffle=False)"
   ]
  },
  {
   "cell_type": "code",
   "execution_count": 365,
   "id": "ff428185",
   "metadata": {},
   "outputs": [],
   "source": [
    "model = Net(in_features=x_train.shape[1], out_features=1)\n",
    "optimizer = optim.SGD(model.parameters(), lr=0.48680724895459165, weight_decay=0.001)\n",
    "scheduler = lr_scheduler.StepLR(optimizer, step_size=11, gamma=0.1)\n",
    "\n",
    "#optimizer = optim.Adam(model.parameters(), lr=0.005748166923714632)\n",
    "\n",
    "loss_fn = nn.BCELoss()\n",
    "acc_fn = Accuracy(task='binary')"
   ]
  },
  {
   "cell_type": "code",
   "execution_count": 366,
   "id": "0332ba9c",
   "metadata": {},
   "outputs": [
    {
     "name": "stderr",
     "output_type": "stream",
     "text": [
      "100%|████████████████████████████████████████████████████████████████████████████████████████████████████| 200/200 [00:57<00:00,  3.46it/s]\n"
     ]
    }
   ],
   "source": [
    "losses, val_losses = [], []\n",
    "accs, val_accs = [], []\n",
    "epochs = 200\n",
    "\n",
    "for epoch in tqdm(range(epochs)):\n",
    "  total_loss, total_val_loss = 0, 0\n",
    "  total_acc, total_val_acc = 0, 0\n",
    "  \n",
    "  model.train()\n",
    "  for x, y in train_loader:\n",
    "    out = model(x)\n",
    "    #print(out.reshape(y.shape).shape, y.shape)\n",
    "    loss = loss_fn(out.reshape(y.shape), y)\n",
    "    acc = acc_fn(out.reshape(y.shape), y)\n",
    "    \n",
    "    optimizer.zero_grad()\n",
    "    loss.backward()\n",
    "    optimizer.step()\n",
    "    \n",
    "    total_loss += loss.item()\n",
    "    total_acc += acc.item()\n",
    "    \n",
    "  total_loss /= len(train_loader)\n",
    "  losses.append(total_loss)\n",
    "  \n",
    "  total_acc /= len(train_loader)\n",
    "  accs.append(total_acc)\n",
    "    \n",
    "  model.eval()\n",
    "  with torch.inference_mode():\n",
    "    for x, y in val_loader:\n",
    "      val_out = model(x)\n",
    "      val_loss = loss_fn(val_out.reshape(y.shape), y)\n",
    "      val_acc = acc_fn(val_out.reshape(y.shape), y)\n",
    "        \n",
    "      total_val_loss += val_loss.item()\n",
    "      total_val_acc += val_acc.item()\n",
    "\n",
    "    total_val_loss /= len(val_loader)\n",
    "    total_val_acc /= len(val_loader)\n",
    "    \n",
    "    val_losses.append(total_val_loss)\n",
    "    val_accs.append(total_val_acc)\n",
    "    \n",
    "    #scheduler.step()"
   ]
  },
  {
   "cell_type": "code",
   "execution_count": 367,
   "id": "3d00a439",
   "metadata": {},
   "outputs": [
    {
     "data": {
      "image/png": "[encoded data removed]",
      "text/plain": [
       "<Figure size 640x480 with 1 Axes>"
      ]
     },
     "metadata": {},
     "output_type": "display_data"
    }
   ],
   "source": [
    "plt.plot(np.arange(len(losses)), losses);\n",
    "plt.plot(np.arange(len(val_losses)), val_losses);"
   ]
  },
  {
   "cell_type": "code",
   "execution_count": 368,
   "id": "b9bbe012",
   "metadata": {
    "scrolled": true
   },
   "outputs": [
    {
     "data": {
      "image/png": "[encoded data removed]",
      "text/plain": [
       "<Figure size 640x480 with 1 Axes>"
      ]
     },
     "metadata": {},
     "output_type": "display_data"
    }
   ],
   "source": [
    "plt.plot(np.arange(len(accs)), accs);\n",
    "plt.plot(np.arange(len(val_accs)),val_accs);"
   ]
  },
  {
   "cell_type": "code",
   "execution_count": 264,
   "id": "b377d5c6",
   "metadata": {},
   "outputs": [],
   "source": [
    "# # Define the model\n",
    "# class Net(nn.Module):\n",
    "#   def __init__(self, input_size, hidden_size, output_size):\n",
    "#     super(Net, self).__init__()\n",
    "#     self.fc1 = nn.Linear(input_size, hidden_size)\n",
    "#     self.relu = nn.ReLU()\n",
    "#     self.fc2 = nn.Linear(hidden_size, output_size)\n",
    "#     self.sigmoid = nn.Sigmoid()\n",
    "\n",
    "#   def forward(self, x):\n",
    "#     out = self.fc1(x)\n",
    "#     out = self.relu(out)\n",
    "#     out = self.fc2(out)\n",
    "#     out = self.sigmoid(out)\n",
    "#     return out"
   ]
  },
  {
   "cell_type": "code",
   "execution_count": 344,
   "id": "aa510aea",
   "metadata": {},
   "outputs": [],
   "source": [
    "def test_accuracy(net, val_loader):\n",
    "  total = 0\n",
    "  model.eval()\n",
    "  with torch.inference_mode():\n",
    "    for data in val_loader:\n",
    "      inputs, labels = data\n",
    "      outputs = net(inputs)\n",
    "      val_acc = acc_fn(outputs.reshape(labels.shape), labels)\n",
    "      total += val_acc.item()\n",
    "      \n",
    "  total /= len(val_loader)\n",
    "  #accuracy = 100 * correct / total\n",
    "  return total"
   ]
  },
  {
   "cell_type": "code",
   "execution_count": 348,
   "id": "638af519",
   "metadata": {},
   "outputs": [],
   "source": [
    "def train(params):\n",
    "  learning_rate = params['learning_rate']\n",
    "  net = Net(in_features=15269, out_features=1)\n",
    "  optimizer = optim.SGD(net.parameters(), lr=learning_rate)\n",
    "  for epoch in range(200):\n",
    "    for i, (inputs, labels) in enumerate(train_loader):\n",
    "      optimizer.zero_grad()\n",
    "      outputs = net(inputs)\n",
    "      loss = loss_fn(outputs.reshape(labels.shape), labels)\n",
    "      loss.backward()\n",
    "      optimizer.step()\n",
    "  accuracy = test_accuracy(net, val_loader)\n",
    "  return {'loss': -accuracy, 'status': 'ok'}"
   ]
  },
  {
   "cell_type": "code",
   "execution_count": 349,
   "id": "4a73b6db",
   "metadata": {},
   "outputs": [
    {
     "name": "stdout",
     "output_type": "stream",
     "text": [
      "100%|████████████████████████████████████████████████████████████████████| 50/50 [35:36<00:00, 42.73s/trial, best loss: -0.741882439170565]\n"
     ]
    }
   ],
   "source": [
    "# Define the search space for the learning rate\n",
    "search_space = {\n",
    "    'learning_rate': hp.loguniform('learning_rate', -10, 0)\n",
    "}\n",
    "\n",
    "best = fmin(train, search_space, algo=tpe.suggest, max_evals=50)"
   ]
  },
  {
   "cell_type": "code",
   "execution_count": 350,
   "id": "1c2ebcc6",
   "metadata": {},
   "outputs": [
    {
     "data": {
      "text/plain": [
       "{'learning_rate': 0.48680724895459165}"
      ]
     },
     "execution_count": 350,
     "metadata": {},
     "output_type": "execute_result"
    }
   ],
   "source": [
    "best"
   ]
  },
  {
   "cell_type": "code",
   "execution_count": null,
   "id": "6e328fcb",
   "metadata": {},
   "outputs": [],
   "source": []
  },
  {
   "cell_type": "code",
   "execution_count": null,
   "id": "ee371e7f",
   "metadata": {},
   "outputs": [],
   "source": []
  },
  {
   "cell_type": "code",
   "execution_count": null,
   "id": "2ee5ac88",
   "metadata": {},
   "outputs": [],
   "source": []
  },
  {
   "cell_type": "code",
   "execution_count": null,
   "id": "ddfeb57b",
   "metadata": {},
   "outputs": [],
   "source": []
  },
  {
   "cell_type": "code",
   "execution_count": null,
   "id": "1b8c05cf",
   "metadata": {},
   "outputs": [],
   "source": []
  },
  {
   "cell_type": "code",
   "execution_count": null,
   "id": "cd217392",
   "metadata": {},
   "outputs": [],
   "source": []
  },
  {
   "cell_type": "code",
   "execution_count": null,
   "id": "f409c9da",
   "metadata": {},
   "outputs": [],
   "source": []
  },
  {
   "cell_type": "code",
   "execution_count": null,
   "id": "10c62ccb",
   "metadata": {},
   "outputs": [],
   "source": []
  },
  {
   "cell_type": "code",
   "execution_count": null,
   "id": "f584ca3c",
   "metadata": {},
   "outputs": [],
   "source": []
  },
  {
   "cell_type": "code",
   "execution_count": null,
   "id": "6658cce9",
   "metadata": {},
   "outputs": [],
   "source": []
  },
  {
   "cell_type": "code",
   "execution_count": null,
   "id": "3fe30bb2",
   "metadata": {},
   "outputs": [],
   "source": []
  },
  {
   "cell_type": "code",
   "execution_count": null,
   "id": "1269efef",
   "metadata": {},
   "outputs": [],
   "source": []
  },
  {
   "cell_type": "code",
   "execution_count": null,
   "id": "3dc3abda",
   "metadata": {},
   "outputs": [],
   "source": []
  },
  {
   "cell_type": "code",
   "execution_count": null,
   "id": "a2a2ebe1",
   "metadata": {},
   "outputs": [],
   "source": []
  },
  {
   "cell_type": "code",
   "execution_count": null,
   "id": "d402b857",
   "metadata": {},
   "outputs": [],
   "source": []
  },
  {
   "cell_type": "code",
   "execution_count": null,
   "id": "4febb6c5",
   "metadata": {},
   "outputs": [],
   "source": []
  },
  {
   "cell_type": "code",
   "execution_count": null,
   "id": "5704cf58",
   "metadata": {},
   "outputs": [],
   "source": []
  }
 ],
 "metadata": {
  "kernelspec": {
   "display_name": "Python 3",
   "language": "python",
   "name": "python3"
  },
  "language_info": {
   "codemirror_mode": {
    "name": "ipython",
    "version": 3
   },
   "file_extension": ".py",
   "mimetype": "text/x-python",
   "name": "python",
   "nbconvert_exporter": "python",
   "pygments_lexer": "ipython3",
   "version": "3.10.2"
  }
 },
 "nbformat": 4,
 "nbformat_minor": 5
}
