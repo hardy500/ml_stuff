{
 "cells": [
  {
   "cell_type": "code",
   "execution_count": 1,
   "id": "a3ae7f39",
   "metadata": {},
   "outputs": [],
   "source": [
    "# Task: redict whether a passenger was transported to an alternate dimension"
   ]
  },
  {
   "cell_type": "code",
   "execution_count": 2,
   "id": "8c9c8f2d",
   "metadata": {},
   "outputs": [],
   "source": [
    "import pandas as pd\n",
    "import numpy as np\n",
    "import matplotlib.pyplot as plt"
   ]
  },
  {
   "cell_type": "code",
   "execution_count": 3,
   "id": "6f750cfd",
   "metadata": {
    "scrolled": true
   },
   "outputs": [],
   "source": [
    "train_data = pd.read_csv('datasets/train.csv')\n",
    "test_data = pd.read_csv('datasets/test.csv')\n"
   ]
  },
  {
   "cell_type": "code",
   "execution_count": 8,
   "id": "ba7fe076",
   "metadata": {},
   "outputs": [],
   "source": [
    "tmp_test = tmp_test.reindex(columns=tmp.columns, fill_value=0)"
   ]
  },
  {
   "cell_type": "code",
   "execution_count": 9,
   "id": "39490fd2",
   "metadata": {},
   "outputs": [],
   "source": [
    "from sklearn.feature_selection import SelectKBest\n",
    "from sklearn.feature_selection import chi2"
   ]
  },
  {
   "cell_type": "code",
   "execution_count": 10,
   "id": "cab1c48b",
   "metadata": {},
   "outputs": [],
   "source": [
    "y = pd.get_dummies(y, drop_first=True).values.ravel()\n",
    "x = tmp"
   ]
  },
  {
   "cell_type": "code",
   "execution_count": 11,
   "id": "332706f0",
   "metadata": {},
   "outputs": [],
   "source": [
    "sel = SelectKBest(chi2, k=1000)\n",
    "x = sel.fit_transform(x, y)\n",
    "x_test = sel.transform(tmp_test.fillna(0))"
   ]
  },
  {
   "cell_type": "code",
   "execution_count": 12,
   "id": "a2acbdc4",
   "metadata": {},
   "outputs": [],
   "source": [
    "from sklearn.model_selection import train_test_split"
   ]
  },
  {
   "cell_type": "code",
   "execution_count": 13,
   "id": "1cdaf9a5",
   "metadata": {},
   "outputs": [],
   "source": [
    "x_train, x_val, y_train, y_val = train_test_split(x, y, test_size=.2, shuffle=True, random_state=42, stratify=y)"
   ]
  },
  {
   "cell_type": "code",
   "execution_count": 14,
   "id": "c7d87eb1",
   "metadata": {},
   "outputs": [],
   "source": [
    "# Linear \n",
    "# Linear \n",
    "from sklearn.linear_model import LogisticRegression, SGDClassifier\n",
    "from sklearn.discriminant_analysis import LinearDiscriminantAnalysis\n",
    "\n",
    "# Non-Linear\n",
    "from sklearn.neighbors import KNeighborsClassifier\n",
    "from sklearn.tree import DecisionTreeClassifier\n",
    "from sklearn.naive_bayes import GaussianNB\n",
    "from sklearn.svm import SVC\n",
    "from xgboost import XGBClassifier\n",
    "from sklearn.ensemble import (\n",
    "  AdaBoostClassifier, GradientBoostingClassifier, \n",
    "  HistGradientBoostingClassifier, \n",
    "  RandomForestClassifier, ExtraTreesClassifier\n",
    ")\n",
    "\n",
    "from sklearn.model_selection import KFold, cross_val_score\n",
    "from sklearn.pipeline import Pipeline\n",
    "from sklearn.preprocessing import StandardScaler"
   ]
  },
  {
   "cell_type": "code",
   "execution_count": 15,
   "id": "24ce6122",
   "metadata": {},
   "outputs": [],
   "source": [
    "def spot_check(a):\n",
    "  c = []\n",
    "  for i in a:\n",
    "    c.append(\n",
    "      (i[0], Pipeline([\n",
    "      (i[0], StandardScaler()),\n",
    "      (i[2][0], i[2][1])\n",
    "     ]))\n",
    "    )\n",
    "  return c"
   ]
  },
  {
   "cell_type": "code",
   "execution_count": 16,
   "id": "f13e15e2",
   "metadata": {},
   "outputs": [],
   "source": [
    "a = [\n",
    "  ('ScaledLR', 'Scalar', ('LR', LogisticRegression(class_weight='balance'))),\n",
    "  #('ScaledLDA', 'Scalar', ('LDA', LinearDiscriminantAnalysis())),\n",
    "  #('ScaledKNN', 'Scalar', ('KNN', KNeighborsClassifier())),\n",
    "  #('ScaledCART', 'Scalar', ('CART', DecisionTreeClassifier())),\n",
    "  #('ScaledSVC', 'Scalar', ('SVC', SVC())),\n",
    "  \n",
    "  #('ScaledAB', 'Scalar', ('AB', AdaBoostClassifier())),\n",
    "  #('ScaledGDM', 'Scalar', ('GDM', GradientBoostingClassifier())),\n",
    "  #('ScaledHGB', 'Scalar', ('HGB', HistGradientBoostingClassifier())),\n",
    "  #('ScaledRF', 'Scalar', ('RF', RandomForestClassifier())),\n",
    "  #('ScaledXG', 'Scalar', ('XG', XGBClassifier())),\n",
    "  #('ScaledET', 'Scalar', ('ET', ExtraTreesClassifier())),\n",
    "]\n",
    "\n",
    "pipelines = spot_check(a)"
   ]
  },
  {
   "cell_type": "code",
   "execution_count": 17,
   "id": "c0d92243",
   "metadata": {},
   "outputs": [
    {
     "name": "stdout",
     "output_type": "stream",
     "text": [
      "ScaledLR: 0.812\n"
     ]
    }
   ],
   "source": [
    "names, results = [],[]\n",
    "for name, model in pipelines:\n",
    "  cv = KFold(n_splits=15)\n",
    "  cv_results = cross_val_score(model, x_train, y_train, cv=cv, scoring='accuracy')\n",
    "  \n",
    "  results.append(cv_results)\n",
    "  names.append(name)\n",
    "  print(f\"{name}: {cv_results.mean():.3f}\")"
   ]
  },
  {
   "cell_type": "code",
   "execution_count": 18,
   "id": "7a377594",
   "metadata": {},
   "outputs": [
    {
     "data": {
      "image/png": "[encoded data removed]",
      "text/plain": [
       "<Figure size 640x480 with 1 Axes>"
      ]
     },
     "metadata": {},
     "output_type": "display_data"
    }
   ],
   "source": [
    "# Compare the algorithm\n",
    "fig = plt.figure()\n",
    "ax = fig.add_subplot()\n",
    "plt.boxplot(results)\n",
    "ax.set_xticklabels(names, rotation='vertical');"
   ]
  },
  {
   "cell_type": "code",
   "execution_count": 19,
   "id": "e530d14d",
   "metadata": {},
   "outputs": [],
   "source": [
    "from sklearn.model_selection import GridSearchCV"
   ]
  },
  {
   "cell_type": "code",
   "execution_count": 20,
   "id": "6ce019dd",
   "metadata": {},
   "outputs": [],
   "source": [
    "from sklearn.metrics import classification_report"
   ]
  },
  {
   "cell_type": "code",
   "execution_count": 21,
   "id": "b7a07131",
   "metadata": {},
   "outputs": [],
   "source": [
    "# #ScaledLR: 0.812\n",
    "\n",
    "# scalar = StandardScaler().fit(x_train)\n",
    "# scaled_x = scalar.transform(x_train)\n",
    "# param_grid = {'C': np.linspace(0.001, 2, 100)}\n",
    "# model = LogisticRegression(max_iter=1000)\n",
    "# kfold = KFold(n_splits=20)\n",
    "# grid = GridSearchCV(estimator=model, param_grid=param_grid, error_score='raise')\n",
    "# grid_result = grid.fit(scaled_x, y_train)\n",
    "# print(f\"Best: {grid_result.best_score_}, {grid_result.best_params_}\")"
   ]
  },
  {
   "cell_type": "code",
   "execution_count": 44,
   "id": "99865088",
   "metadata": {},
   "outputs": [
    {
     "name": "stdout",
     "output_type": "stream",
     "text": [
      "              precision    recall  f1-score   support\n",
      "\n",
      "           0       0.84      0.73      0.78       656\n",
      "           1       0.77      0.86      0.81       666\n",
      "\n",
      "    accuracy                           0.80      1322\n",
      "   macro avg       0.80      0.80      0.80      1322\n",
      "weighted avg       0.80      0.80      0.80      1322\n",
      "\n"
     ]
    }
   ],
   "source": [
    "scalar = StandardScaler().fit(x_train)\n",
    "scaled_x = scalar.transform(x_train)\n",
    "model = LogisticRegression(max_iter=1000, C=40.5949387781913, penalty='l2', fit_intercept=1)\n",
    "model.fit(scaled_x, y_train)\n",
    "\n",
    "scaled_x_val = scalar.transform(x_val)\n",
    "pred = model.predict(scaled_x_val)\n",
    "print(classification_report(y_val, pred))"
   ]
  },
  {
   "cell_type": "code",
   "execution_count": 45,
   "id": "513afcda",
   "metadata": {},
   "outputs": [],
   "source": [
    "pred_test = model.predict(x_test)\n",
    "pred_test = [True if i == True else False for i in pred_test]"
   ]
  },
  {
   "cell_type": "code",
   "execution_count": 46,
   "id": "3b99c535",
   "metadata": {},
   "outputs": [
    {
     "ename": "KeyError",
     "evalue": "'PassengerId'",
     "output_type": "error",
     "traceback": [
      "\u001b[0;31m---------------------------------------------------------------------------\u001b[0m",
      "\u001b[0;31mKeyError\u001b[0m                                  Traceback (most recent call last)",
      "File \u001b[0;32m/usr/local/var/pyenv/versions/3.10.2/lib/python3.10/site-packages/pandas/core/indexes/base.py:3803\u001b[0m, in \u001b[0;36mIndex.get_loc\u001b[0;34m(self, key, method, tolerance)\u001b[0m\n\u001b[1;32m   3802\u001b[0m \u001b[38;5;28;01mtry\u001b[39;00m:\n\u001b[0;32m-> 3803\u001b[0m     \u001b[38;5;28;01mreturn\u001b[39;00m \u001b[38;5;28;43mself\u001b[39;49m\u001b[38;5;241;43m.\u001b[39;49m\u001b[43m_engine\u001b[49m\u001b[38;5;241;43m.\u001b[39;49m\u001b[43mget_loc\u001b[49m\u001b[43m(\u001b[49m\u001b[43mcasted_key\u001b[49m\u001b[43m)\u001b[49m\n\u001b[1;32m   3804\u001b[0m \u001b[38;5;28;01mexcept\u001b[39;00m \u001b[38;5;167;01mKeyError\u001b[39;00m \u001b[38;5;28;01mas\u001b[39;00m err:\n",
      "File \u001b[0;32m/usr/local/var/pyenv/versions/3.10.2/lib/python3.10/site-packages/pandas/_libs/index.pyx:138\u001b[0m, in \u001b[0;36mpandas._libs.index.IndexEngine.get_loc\u001b[0;34m()\u001b[0m\n",
      "File \u001b[0;32m/usr/local/var/pyenv/versions/3.10.2/lib/python3.10/site-packages/pandas/_libs/index.pyx:165\u001b[0m, in \u001b[0;36mpandas._libs.index.IndexEngine.get_loc\u001b[0;34m()\u001b[0m\n",
      "File \u001b[0;32mpandas/_libs/hashtable_class_helper.pxi:5745\u001b[0m, in \u001b[0;36mpandas._libs.hashtable.PyObjectHashTable.get_item\u001b[0;34m()\u001b[0m\n",
      "File \u001b[0;32mpandas/_libs/hashtable_class_helper.pxi:5753\u001b[0m, in \u001b[0;36mpandas._libs.hashtable.PyObjectHashTable.get_item\u001b[0;34m()\u001b[0m\n",
      "\u001b[0;31mKeyError\u001b[0m: 'PassengerId'",
      "\nThe above exception was the direct cause of the following exception:\n",
      "\u001b[0;31mKeyError\u001b[0m                                  Traceback (most recent call last)",
      "Cell \u001b[0;32mIn [46], line 1\u001b[0m\n\u001b[0;32m----> 1\u001b[0m sol \u001b[38;5;241m=\u001b[39m test_data\u001b[38;5;241m.\u001b[39mpop(\u001b[38;5;124m'\u001b[39m\u001b[38;5;124mPassengerId\u001b[39m\u001b[38;5;124m'\u001b[39m)\n",
      "File \u001b[0;32m/usr/local/var/pyenv/versions/3.10.2/lib/python3.10/site-packages/pandas/core/frame.py:5674\u001b[0m, in \u001b[0;36mDataFrame.pop\u001b[0;34m(self, item)\u001b[0m\n\u001b[1;32m   5633\u001b[0m \u001b[38;5;28;01mdef\u001b[39;00m \u001b[38;5;21mpop\u001b[39m(\u001b[38;5;28mself\u001b[39m, item: Hashable) \u001b[38;5;241m-\u001b[39m\u001b[38;5;241m>\u001b[39m Series:\n\u001b[1;32m   5634\u001b[0m     \u001b[38;5;124;03m\"\"\"\u001b[39;00m\n\u001b[1;32m   5635\u001b[0m \u001b[38;5;124;03m    Return item and drop from frame. Raise KeyError if not found.\u001b[39;00m\n\u001b[1;32m   5636\u001b[0m \n\u001b[0;32m   (...)\u001b[0m\n\u001b[1;32m   5672\u001b[0m \u001b[38;5;124;03m    3  monkey        NaN\u001b[39;00m\n\u001b[1;32m   5673\u001b[0m \u001b[38;5;124;03m    \"\"\"\u001b[39;00m\n\u001b[0;32m-> 5674\u001b[0m     \u001b[38;5;28;01mreturn\u001b[39;00m \u001b[38;5;28;43msuper\u001b[39;49m\u001b[43m(\u001b[49m\u001b[43m)\u001b[49m\u001b[38;5;241;43m.\u001b[39;49m\u001b[43mpop\u001b[49m\u001b[43m(\u001b[49m\u001b[43mitem\u001b[49m\u001b[38;5;241;43m=\u001b[39;49m\u001b[43mitem\u001b[49m\u001b[43m)\u001b[49m\n",
      "File \u001b[0;32m/usr/local/var/pyenv/versions/3.10.2/lib/python3.10/site-packages/pandas/core/generic.py:923\u001b[0m, in \u001b[0;36mNDFrame.pop\u001b[0;34m(self, item)\u001b[0m\n\u001b[1;32m    922\u001b[0m \u001b[38;5;28;01mdef\u001b[39;00m \u001b[38;5;21mpop\u001b[39m(\u001b[38;5;28mself\u001b[39m, item: Hashable) \u001b[38;5;241m-\u001b[39m\u001b[38;5;241m>\u001b[39m Series \u001b[38;5;241m|\u001b[39m Any:\n\u001b[0;32m--> 923\u001b[0m     result \u001b[38;5;241m=\u001b[39m \u001b[38;5;28;43mself\u001b[39;49m\u001b[43m[\u001b[49m\u001b[43mitem\u001b[49m\u001b[43m]\u001b[49m\n\u001b[1;32m    924\u001b[0m     \u001b[38;5;28;01mdel\u001b[39;00m \u001b[38;5;28mself\u001b[39m[item]\n\u001b[1;32m    926\u001b[0m     \u001b[38;5;28;01mreturn\u001b[39;00m result\n",
      "File \u001b[0;32m/usr/local/var/pyenv/versions/3.10.2/lib/python3.10/site-packages/pandas/core/frame.py:3804\u001b[0m, in \u001b[0;36mDataFrame.__getitem__\u001b[0;34m(self, key)\u001b[0m\n\u001b[1;32m   3802\u001b[0m \u001b[38;5;28;01mif\u001b[39;00m \u001b[38;5;28mself\u001b[39m\u001b[38;5;241m.\u001b[39mcolumns\u001b[38;5;241m.\u001b[39mnlevels \u001b[38;5;241m>\u001b[39m \u001b[38;5;241m1\u001b[39m:\n\u001b[1;32m   3803\u001b[0m     \u001b[38;5;28;01mreturn\u001b[39;00m \u001b[38;5;28mself\u001b[39m\u001b[38;5;241m.\u001b[39m_getitem_multilevel(key)\n\u001b[0;32m-> 3804\u001b[0m indexer \u001b[38;5;241m=\u001b[39m \u001b[38;5;28;43mself\u001b[39;49m\u001b[38;5;241;43m.\u001b[39;49m\u001b[43mcolumns\u001b[49m\u001b[38;5;241;43m.\u001b[39;49m\u001b[43mget_loc\u001b[49m\u001b[43m(\u001b[49m\u001b[43mkey\u001b[49m\u001b[43m)\u001b[49m\n\u001b[1;32m   3805\u001b[0m \u001b[38;5;28;01mif\u001b[39;00m is_integer(indexer):\n\u001b[1;32m   3806\u001b[0m     indexer \u001b[38;5;241m=\u001b[39m [indexer]\n",
      "File \u001b[0;32m/usr/local/var/pyenv/versions/3.10.2/lib/python3.10/site-packages/pandas/core/indexes/base.py:3805\u001b[0m, in \u001b[0;36mIndex.get_loc\u001b[0;34m(self, key, method, tolerance)\u001b[0m\n\u001b[1;32m   3803\u001b[0m     \u001b[38;5;28;01mreturn\u001b[39;00m \u001b[38;5;28mself\u001b[39m\u001b[38;5;241m.\u001b[39m_engine\u001b[38;5;241m.\u001b[39mget_loc(casted_key)\n\u001b[1;32m   3804\u001b[0m \u001b[38;5;28;01mexcept\u001b[39;00m \u001b[38;5;167;01mKeyError\u001b[39;00m \u001b[38;5;28;01mas\u001b[39;00m err:\n\u001b[0;32m-> 3805\u001b[0m     \u001b[38;5;28;01mraise\u001b[39;00m \u001b[38;5;167;01mKeyError\u001b[39;00m(key) \u001b[38;5;28;01mfrom\u001b[39;00m \u001b[38;5;21;01merr\u001b[39;00m\n\u001b[1;32m   3806\u001b[0m \u001b[38;5;28;01mexcept\u001b[39;00m \u001b[38;5;167;01mTypeError\u001b[39;00m:\n\u001b[1;32m   3807\u001b[0m     \u001b[38;5;66;03m# If we have a listlike key, _check_indexing_error will raise\u001b[39;00m\n\u001b[1;32m   3808\u001b[0m     \u001b[38;5;66;03m#  InvalidIndexError. Otherwise we fall through and re-raise\u001b[39;00m\n\u001b[1;32m   3809\u001b[0m     \u001b[38;5;66;03m#  the TypeError.\u001b[39;00m\n\u001b[1;32m   3810\u001b[0m     \u001b[38;5;28mself\u001b[39m\u001b[38;5;241m.\u001b[39m_check_indexing_error(key)\n",
      "\u001b[0;31mKeyError\u001b[0m: 'PassengerId'"
     ]
    }
   ],
   "source": [
    "sol = test_data.pop('PassengerId')"
   ]
  },
  {
   "cell_type": "code",
   "execution_count": 47,
   "id": "60079b47",
   "metadata": {},
   "outputs": [],
   "source": [
    "summit = pd.DataFrame({\n",
    "  \"PassengerId\":sol.values,\n",
    "  \"Transported\":pred_test\n",
    "})"
   ]
  },
  {
   "cell_type": "code",
   "execution_count": 26,
   "id": "666e6b0a",
   "metadata": {},
   "outputs": [],
   "source": [
    "summit.to_csv('summit.csv', index=False)"
   ]
  },
  {
   "cell_type": "code",
   "execution_count": null,
   "id": "d1a670b4",
   "metadata": {},
   "outputs": [],
   "source": []
  },
  {
   "cell_type": "code",
   "execution_count": null,
   "id": "f9890bfc",
   "metadata": {},
   "outputs": [],
   "source": []
  }
 ],
 "metadata": {
  "kernelspec": {
   "display_name": "Python 3",
   "language": "python",
   "name": "python3"
  },
  "language_info": {
   "codemirror_mode": {
    "name": "ipython",
    "version": 3
   },
   "file_extension": ".py",
   "mimetype": "text/x-python",
   "name": "python",
   "nbconvert_exporter": "python",
   "pygments_lexer": "ipython3",
   "version": "3.10.2"
  }
 },
 "nbformat": 4,
 "nbformat_minor": 5
}
