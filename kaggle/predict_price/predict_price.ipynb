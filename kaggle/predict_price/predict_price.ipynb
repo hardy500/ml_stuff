{
 "cells": [
  {
   "cell_type": "code",
   "execution_count": 1,
   "id": "41e5e8bf",
   "metadata": {},
   "outputs": [],
   "source": [
    "import pandas as pd\n",
    "import matplotlib.pyplot as plt"
   ]
  },
  {
   "cell_type": "code",
   "execution_count": 2,
   "id": "61f89567",
   "metadata": {},
   "outputs": [],
   "source": [
    "df = pd.read_csv('datasets/honda_car_selling.csv')\n",
    "df = df.loc[:, ['Year', 'kms Driven', 'Fuel Type', 'Suspension','Car Model', 'Price']]"
   ]
  },
  {
   "cell_type": "code",
   "execution_count": 3,
   "id": "ac38e648",
   "metadata": {
    "scrolled": true
   },
   "outputs": [
    {
     "data": {
      "text/html": [
       "<div>\n",
       "<style scoped>\n",
       "    .dataframe tbody tr th:only-of-type {\n",
       "        vertical-align: middle;\n",
       "    }\n",
       "\n",
       "    .dataframe tbody tr th {\n",
       "        vertical-align: top;\n",
       "    }\n",
       "\n",
       "    .dataframe thead th {\n",
       "        text-align: right;\n",
       "    }\n",
       "</style>\n",
       "<table border=\"1\" class=\"dataframe\">\n",
       "  <thead>\n",
       "    <tr style=\"text-align: right;\">\n",
       "      <th></th>\n",
       "      <th>Year</th>\n",
       "      <th>kms Driven</th>\n",
       "      <th>Fuel Type</th>\n",
       "      <th>Suspension</th>\n",
       "      <th>Car Model</th>\n",
       "      <th>Price</th>\n",
       "    </tr>\n",
       "  </thead>\n",
       "  <tbody>\n",
       "    <tr>\n",
       "      <th>0</th>\n",
       "      <td>2019</td>\n",
       "      <td>19006 kms</td>\n",
       "      <td>Petrol</td>\n",
       "      <td>Automatic</td>\n",
       "      <td>Honda City V CVT</td>\n",
       "      <td>9.29 Lakh</td>\n",
       "    </tr>\n",
       "    <tr>\n",
       "      <th>1</th>\n",
       "      <td>2021</td>\n",
       "      <td>11936 kms</td>\n",
       "      <td>Petrol</td>\n",
       "      <td>Automatic</td>\n",
       "      <td>Honda City ZX CVT</td>\n",
       "      <td>13.95 Lakh</td>\n",
       "    </tr>\n",
       "    <tr>\n",
       "      <th>2</th>\n",
       "      <td>2018</td>\n",
       "      <td>29635 kms</td>\n",
       "      <td>Petrol</td>\n",
       "      <td>Automatic</td>\n",
       "      <td>Honda City i-VTEC CVT ZX</td>\n",
       "      <td>9.95 Lakh</td>\n",
       "    </tr>\n",
       "    <tr>\n",
       "      <th>3</th>\n",
       "      <td>2020</td>\n",
       "      <td>16163 kms</td>\n",
       "      <td>Petrol</td>\n",
       "      <td>Automatic</td>\n",
       "      <td>Honda City ZX CVT</td>\n",
       "      <td>13.26 Lakh</td>\n",
       "    </tr>\n",
       "    <tr>\n",
       "      <th>4</th>\n",
       "      <td>2015</td>\n",
       "      <td>105114 kms</td>\n",
       "      <td>Petrol</td>\n",
       "      <td>Manual</td>\n",
       "      <td>Honda City i VTEC V</td>\n",
       "      <td>5.68 Lakh</td>\n",
       "    </tr>\n",
       "  </tbody>\n",
       "</table>\n",
       "</div>"
      ],
      "text/plain": [
       "   Year   kms Driven Fuel Type  Suspension                 Car Model  \\\n",
       "0  2019   19006 kms    Petrol    Automatic          Honda City V CVT   \n",
       "1  2021   11936 kms    Petrol    Automatic         Honda City ZX CVT   \n",
       "2  2018   29635 kms    Petrol    Automatic  Honda City i-VTEC CVT ZX   \n",
       "3  2020   16163 kms    Petrol    Automatic         Honda City ZX CVT   \n",
       "4  2015  105114 kms    Petrol       Manual       Honda City i VTEC V   \n",
       "\n",
       "         Price  \n",
       "0    9.29 Lakh  \n",
       "1   13.95 Lakh  \n",
       "2    9.95 Lakh  \n",
       "3   13.26 Lakh  \n",
       "4    5.68 Lakh  "
      ]
     },
     "execution_count": 3,
     "metadata": {},
     "output_type": "execute_result"
    }
   ],
   "source": [
    "df.head()"
   ]
  },
  {
   "cell_type": "code",
   "execution_count": 4,
   "id": "2ce2ccae",
   "metadata": {},
   "outputs": [],
   "source": [
    "tmp = df.copy()\n",
    "kms = [int(kms.replace('kms','')) for kms in tmp['kms Driven'].values]\n",
    "tmp['kms Driven'] = kms"
   ]
  },
  {
   "cell_type": "code",
   "execution_count": 5,
   "id": "121af40b",
   "metadata": {},
   "outputs": [],
   "source": [
    "sample_to_remove = [price\n",
    "                    for price in tmp['Price'].values \n",
    "                    if ',' in price]\n",
    "tmp = tmp[~tmp['Price'].isin(sample_to_remove)]"
   ]
  },
  {
   "cell_type": "code",
   "execution_count": 6,
   "id": "12642b08",
   "metadata": {},
   "outputs": [],
   "source": [
    "price_clean = [float(price.replace('Lakh', '').lstrip().rstrip())\n",
    "               for price in tmp['Price'].values]\n",
    "tmp['Price'] = price_clean"
   ]
  },
  {
   "cell_type": "code",
   "execution_count": 22,
   "id": "b815cb3b",
   "metadata": {},
   "outputs": [],
   "source": [
    "from sklearn.preprocessing import OrdinalEncoder\n",
    "from sklearn.ensemble import AdaBoostRegressor, GradientBoostingRegressor, RandomForestRegressor, ExtraTreesRegressor\n",
    "from xgboost import XGBRegressor\n",
    "from sklearn.pipeline import Pipeline\n",
    "from sklearn.preprocessing import StandardScaler\n",
    "\n",
    "def encoder(df, columns):\n",
    "  encoder = OrdinalEncoder()\n",
    "  for col in columns:\n",
    "    a = encoder.fit_transform(df[col].values.reshape(-1, 1))\n",
    "    df[col] = a\n",
    "  return df\n",
    "\n",
    "def spot_check(a):\n",
    "  c = []\n",
    "  for i in a:\n",
    "    c.append(\n",
    "      (i[0], Pipeline([\n",
    "      (i[0], StandardScaler()),\n",
    "      (i[2][0], i[2][1])\n",
    "     ]))\n",
    "    )\n",
    "  return c"
   ]
  },
  {
   "cell_type": "code",
   "execution_count": 8,
   "id": "684a75ec",
   "metadata": {},
   "outputs": [],
   "source": [
    "tmp = encoder(tmp, ['Fuel Type', 'Suspension', 'Car Model'])"
   ]
  },
  {
   "cell_type": "code",
   "execution_count": 9,
   "id": "4fe6d931",
   "metadata": {},
   "outputs": [
    {
     "data": {
      "text/html": [
       "<div>\n",
       "<style scoped>\n",
       "    .dataframe tbody tr th:only-of-type {\n",
       "        vertical-align: middle;\n",
       "    }\n",
       "\n",
       "    .dataframe tbody tr th {\n",
       "        vertical-align: top;\n",
       "    }\n",
       "\n",
       "    .dataframe thead th {\n",
       "        text-align: right;\n",
       "    }\n",
       "</style>\n",
       "<table border=\"1\" class=\"dataframe\">\n",
       "  <thead>\n",
       "    <tr style=\"text-align: right;\">\n",
       "      <th></th>\n",
       "      <th>Year</th>\n",
       "      <th>kms Driven</th>\n",
       "      <th>Fuel Type</th>\n",
       "      <th>Suspension</th>\n",
       "      <th>Car Model</th>\n",
       "      <th>Price</th>\n",
       "    </tr>\n",
       "  </thead>\n",
       "  <tbody>\n",
       "    <tr>\n",
       "      <th>0</th>\n",
       "      <td>2019</td>\n",
       "      <td>19006</td>\n",
       "      <td>2.0</td>\n",
       "      <td>0.0</td>\n",
       "      <td>101.0</td>\n",
       "      <td>9.29</td>\n",
       "    </tr>\n",
       "    <tr>\n",
       "      <th>1</th>\n",
       "      <td>2021</td>\n",
       "      <td>11936</td>\n",
       "      <td>2.0</td>\n",
       "      <td>0.0</td>\n",
       "      <td>107.0</td>\n",
       "      <td>13.95</td>\n",
       "    </tr>\n",
       "    <tr>\n",
       "      <th>2</th>\n",
       "      <td>2018</td>\n",
       "      <td>29635</td>\n",
       "      <td>2.0</td>\n",
       "      <td>0.0</td>\n",
       "      <td>131.0</td>\n",
       "      <td>9.95</td>\n",
       "    </tr>\n",
       "    <tr>\n",
       "      <th>3</th>\n",
       "      <td>2020</td>\n",
       "      <td>16163</td>\n",
       "      <td>2.0</td>\n",
       "      <td>0.0</td>\n",
       "      <td>107.0</td>\n",
       "      <td>13.26</td>\n",
       "    </tr>\n",
       "    <tr>\n",
       "      <th>4</th>\n",
       "      <td>2015</td>\n",
       "      <td>105114</td>\n",
       "      <td>2.0</td>\n",
       "      <td>1.0</td>\n",
       "      <td>123.0</td>\n",
       "      <td>5.68</td>\n",
       "    </tr>\n",
       "  </tbody>\n",
       "</table>\n",
       "</div>"
      ],
      "text/plain": [
       "   Year  kms Driven  Fuel Type  Suspension  Car Model  Price\n",
       "0  2019       19006        2.0         0.0      101.0   9.29\n",
       "1  2021       11936        2.0         0.0      107.0  13.95\n",
       "2  2018       29635        2.0         0.0      131.0   9.95\n",
       "3  2020       16163        2.0         0.0      107.0  13.26\n",
       "4  2015      105114        2.0         1.0      123.0   5.68"
      ]
     },
     "execution_count": 9,
     "metadata": {},
     "output_type": "execute_result"
    }
   ],
   "source": [
    "tmp.head()"
   ]
  },
  {
   "cell_type": "code",
   "execution_count": 10,
   "id": "f6139167",
   "metadata": {},
   "outputs": [
    {
     "data": {
      "image/png": "[encoded data removed]",
      "text/plain": [
       "<Figure size 640x480 with 2 Axes>"
      ]
     },
     "metadata": {},
     "output_type": "display_data"
    }
   ],
   "source": [
    "fig = plt.figure()\n",
    "ax = fig.add_subplot()\n",
    "cax = ax.matshow(tmp.corr(), vmin=-1, vmax=1, interpolation='none')\n",
    "fig.colorbar(cax);"
   ]
  },
  {
   "cell_type": "code",
   "execution_count": 11,
   "id": "dd567337",
   "metadata": {},
   "outputs": [],
   "source": [
    "from sklearn.model_selection import train_test_split\n",
    "x = tmp.values[:,:-1]\n",
    "y = tmp.values[:,-1]\n",
    "x_train, x_test, y_train, y_test = train_test_split(x, y, test_size=0.2, random_state=42)"
   ]
  },
  {
   "cell_type": "code",
   "execution_count": 13,
   "id": "86a5d005",
   "metadata": {},
   "outputs": [],
   "source": [
    "from sklearn.linear_model import LinearRegression, Lasso, ElasticNet\n",
    "from sklearn.neighbors import KNeighborsRegressor\n",
    "from sklearn.tree import DecisionTreeRegressor\n",
    "from sklearn.svm import SVR\n",
    "# Standardize the dataset\n",
    "\n",
    "a = [\n",
    "  ('ScaledLR', 'Scalar', ('LR', LinearRegression())),\n",
    "  ('ScaledLSSO', 'Scalar', ('LSSO', Lasso())),\n",
    "  ('ScaledEN', 'Scalar', ('EN', ElasticNet())),\n",
    "  ('ScaledKNN', 'Scalar', ('KNN', KNeighborsRegressor())),\n",
    "  ('ScaledDT', 'Scalar', ('DT', DecisionTreeRegressor())),\n",
    "  ('ScaledSVR', 'Scalar', ('SVR', SVR()))\n",
    "]\n",
    "\n",
    "pipelines = spot_check(a)"
   ]
  },
  {
   "cell_type": "code",
   "execution_count": 14,
   "id": "e357cb1f",
   "metadata": {},
   "outputs": [
    {
     "name": "stdout",
     "output_type": "stream",
     "text": [
      "ScaledLR: -3.147 (1.548)\n",
      "ScaledLSSO: -4.867 (2.175)\n",
      "ScaledEN: -4.737 (2.058)\n",
      "ScaledKNN: -2.253 (1.532)\n",
      "ScaledDT: -1.733 (0.459)\n",
      "ScaledSVR: -2.192 (1.581)\n"
     ]
    }
   ],
   "source": [
    "from sklearn.model_selection import KFold, cross_val_score\n",
    "\n",
    "names, results = [], []\n",
    "for name, model in pipelines:\n",
    "  cv = KFold(n_splits=10)\n",
    "  cv_results = cross_val_score(model, x_train, y_train, cv=cv, scoring='neg_mean_squared_error')\n",
    "  \n",
    "  results.append(cv_results)\n",
    "  names.append(name)\n",
    "  print(f\"{name}: {cv_results.mean():.3f} ({cv_results.std():.3f})\")  "
   ]
  },
  {
   "cell_type": "code",
   "execution_count": 15,
   "id": "b6801f3c",
   "metadata": {},
   "outputs": [
    {
     "data": {
      "image/png": "[encoded data removed]",
      "text/plain": [
       "<Figure size 640x480 with 1 Axes>"
      ]
     },
     "metadata": {},
     "output_type": "display_data"
    }
   ],
   "source": [
    "fig = plt.figure()\n",
    "ax = fig.add_subplot()\n",
    "plt.boxplot(results)\n",
    "ax.set_xticklabels(names);"
   ]
  },
  {
   "cell_type": "code",
   "execution_count": 16,
   "id": "cb100441",
   "metadata": {},
   "outputs": [
    {
     "name": "stdout",
     "output_type": "stream",
     "text": [
      "Best: -2.093212723140334 | {'n_neighbors': 9}\n"
     ]
    }
   ],
   "source": [
    "# KNN seems promising; let's tune it\n",
    "from sklearn.model_selection import GridSearchCV, RandomizedSearchCV\n",
    "\n",
    "scalar = StandardScaler().fit(x_train)\n",
    "scaled_x = scalar.transform(x_train)\n",
    "k_values = [1,3,5,7,9,11,13,15,17,19,21]\n",
    "param_grid = dict(n_neighbors=k_values)\n",
    "model = KNeighborsRegressor()\n",
    "cv = KFold(n_splits=10)\n",
    "grid = GridSearchCV(estimator=model, param_grid=param_grid, scoring='neg_mean_squared_error', cv=cv)\n",
    "grid_result = grid.fit(scaled_x, y_train)\n",
    "print(f\"Best: {grid_result.best_score_} | {grid_result.best_params_}\")"
   ]
  },
  {
   "cell_type": "code",
   "execution_count": 17,
   "id": "a346dab9",
   "metadata": {},
   "outputs": [],
   "source": [
    "a = [\n",
    "  ('ScaledAB', 'Scalar', ('AB', AdaBoostRegressor())),\n",
    "  ('ScaledGB', 'Scalar', ('GB', GradientBoostingRegressor())),\n",
    "  ('ScaledRF', 'Scalar', ('RF', RandomForestRegressor())),\n",
    "  ('ScaledET', 'Scalar', ('ET', ExtraTreesRegressor())),\n",
    "  ('ScaledXGB', 'Scalar', ('XGB', XGBRegressor())),\n",
    "]\n",
    "\n",
    "ensembles = spot_check(a)"
   ]
  },
  {
   "cell_type": "code",
   "execution_count": 18,
   "id": "c5971687",
   "metadata": {},
   "outputs": [
    {
     "name": "stdout",
     "output_type": "stream",
     "text": [
      "ScaledAB: -2.163 (0.603)\n",
      "ScaledGB: -1.106 (0.509)\n",
      "ScaledRF: -1.253 (0.480)\n",
      "ScaledET: -1.610 (0.825)\n",
      "ScaledXGB: -1.225 (0.396)\n"
     ]
    }
   ],
   "source": [
    "names, results = [], []\n",
    "for name, model in ensembles:\n",
    "  cv = KFold(n_splits=10)\n",
    "  cv_results = cross_val_score(model, x_train, y_train, cv=cv, scoring='neg_mean_squared_error')\n",
    "  \n",
    "  results.append(cv_results)\n",
    "  names.append(name)\n",
    "  print(f\"{name}: {cv_results.mean():.3f} ({cv_results.std():.3f})\")  "
   ]
  },
  {
   "cell_type": "code",
   "execution_count": 19,
   "id": "752466c7",
   "metadata": {
    "scrolled": false
   },
   "outputs": [
    {
     "data": {
      "image/png": "[encoded data removed]",
      "text/plain": [
       "<Figure size 640x480 with 1 Axes>"
      ]
     },
     "metadata": {},
     "output_type": "display_data"
    }
   ],
   "source": [
    "fig = plt.figure()\n",
    "ax = fig.add_subplot()\n",
    "plt.boxplot(results)\n",
    "ax.set_xticklabels(names);"
   ]
  },
  {
   "cell_type": "code",
   "execution_count": 20,
   "id": "42d27dc9",
   "metadata": {},
   "outputs": [],
   "source": [
    "from sklearn.metrics import mean_squared_error"
   ]
  },
  {
   "cell_type": "code",
   "execution_count": 21,
   "id": "1edb3b0d",
   "metadata": {},
   "outputs": [
    {
     "data": {
      "text/plain": [
       "1.140601546164522"
      ]
     },
     "execution_count": 21,
     "metadata": {},
     "output_type": "execute_result"
    }
   ],
   "source": [
    "# Final Model\n",
    "scalar = StandardScaler().fit(x_train)\n",
    "scaled_x = scalar.transform(x_train)\n",
    "model = GradientBoostingRegressor()\n",
    "model.fit(scaled_x, y_train)\n",
    "\n",
    "scaled_x_test = scalar.transform(x_test)\n",
    "pred = model.predict(scaled_x_test)\n",
    "mean_squared_error(y_test, pred)"
   ]
  },
  {
   "cell_type": "code",
   "execution_count": null,
   "id": "d7c92a33",
   "metadata": {},
   "outputs": [],
   "source": []
  },
  {
   "cell_type": "code",
   "execution_count": null,
   "id": "ba3ba219",
   "metadata": {},
   "outputs": [],
   "source": []
  },
  {
   "cell_type": "code",
   "execution_count": null,
   "id": "275b444f",
   "metadata": {},
   "outputs": [],
   "source": []
  },
  {
   "cell_type": "code",
   "execution_count": null,
   "id": "4664359a",
   "metadata": {},
   "outputs": [],
   "source": []
  },
  {
   "cell_type": "code",
   "execution_count": null,
   "id": "5f5dd305",
   "metadata": {},
   "outputs": [],
   "source": []
  },
  {
   "cell_type": "code",
   "execution_count": null,
   "id": "02a7f123",
   "metadata": {},
   "outputs": [],
   "source": []
  },
  {
   "cell_type": "code",
   "execution_count": null,
   "id": "86e50a35",
   "metadata": {},
   "outputs": [],
   "source": []
  },
  {
   "cell_type": "code",
   "execution_count": null,
   "id": "72c1cec2",
   "metadata": {},
   "outputs": [],
   "source": []
  },
  {
   "cell_type": "code",
   "execution_count": null,
   "id": "b10dc0ff",
   "metadata": {},
   "outputs": [],
   "source": []
  },
  {
   "cell_type": "code",
   "execution_count": null,
   "id": "d1fed5ff",
   "metadata": {},
   "outputs": [],
   "source": []
  },
  {
   "cell_type": "code",
   "execution_count": null,
   "id": "faa6ee42",
   "metadata": {},
   "outputs": [],
   "source": []
  },
  {
   "cell_type": "code",
   "execution_count": null,
   "id": "eda88ecc",
   "metadata": {},
   "outputs": [],
   "source": []
  },
  {
   "cell_type": "code",
   "execution_count": null,
   "id": "031e88ee",
   "metadata": {},
   "outputs": [],
   "source": []
  },
  {
   "cell_type": "code",
   "execution_count": null,
   "id": "873a6082",
   "metadata": {},
   "outputs": [],
   "source": []
  },
  {
   "cell_type": "code",
   "execution_count": null,
   "id": "83040f45",
   "metadata": {},
   "outputs": [],
   "source": []
  },
  {
   "cell_type": "code",
   "execution_count": null,
   "id": "8e0e0a60",
   "metadata": {},
   "outputs": [],
   "source": []
  },
  {
   "cell_type": "code",
   "execution_count": null,
   "id": "046aed26",
   "metadata": {},
   "outputs": [],
   "source": []
  },
  {
   "cell_type": "code",
   "execution_count": null,
   "id": "c0b1e677",
   "metadata": {},
   "outputs": [],
   "source": []
  },
  {
   "cell_type": "code",
   "execution_count": null,
   "id": "0fc40289",
   "metadata": {},
   "outputs": [],
   "source": []
  },
  {
   "cell_type": "code",
   "execution_count": null,
   "id": "a028d1c8",
   "metadata": {},
   "outputs": [],
   "source": []
  },
  {
   "cell_type": "code",
   "execution_count": null,
   "id": "5acc2368",
   "metadata": {},
   "outputs": [],
   "source": []
  },
  {
   "cell_type": "code",
   "execution_count": null,
   "id": "6322c991",
   "metadata": {},
   "outputs": [],
   "source": []
  },
  {
   "cell_type": "code",
   "execution_count": null,
   "id": "96226307",
   "metadata": {},
   "outputs": [],
   "source": []
  }
 ],
 "metadata": {
  "kernelspec": {
   "display_name": "Python 3",
   "language": "python",
   "name": "python3"
  },
  "language_info": {
   "codemirror_mode": {
    "name": "ipython",
    "version": 3
   },
   "file_extension": ".py",
   "mimetype": "text/x-python",
   "name": "python",
   "nbconvert_exporter": "python",
   "pygments_lexer": "ipython3",
   "version": "3.10.2"
  }
 },
 "nbformat": 4,
 "nbformat_minor": 5
}
