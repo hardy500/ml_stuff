{
 "cells": [
  {
   "cell_type": "code",
   "execution_count": 1,
   "id": "a3ae7f39",
   "metadata": {},
   "outputs": [],
   "source": [
    "# Task: redict whether a passenger was transported to an alternate dimension"
   ]
  },
  {
   "cell_type": "code",
   "execution_count": 2,
   "id": "8c9c8f2d",
   "metadata": {},
   "outputs": [],
   "source": [
    "import pandas as pd\n",
    "import numpy as np\n",
    "import matplotlib.pyplot as plt"
   ]
  },
  {
   "cell_type": "code",
   "execution_count": 3,
   "id": "6f750cfd",
   "metadata": {},
   "outputs": [],
   "source": [
    "train_data = pd.read_csv('datasets/train.csv')\n",
    "test_data = pd.read_csv('datasets/test.csv')"
   ]
  },
  {
   "cell_type": "code",
   "execution_count": 95,
   "id": "efa86f3b",
   "metadata": {},
   "outputs": [],
   "source": [
    "# ToDO:\n",
    "# deal with NaN else can't summit to kaggle"
   ]
  },
  {
   "cell_type": "code",
   "execution_count": 94,
   "id": "c073fbec",
   "metadata": {},
   "outputs": [
    {
     "data": {
      "text/plain": [
       "PassengerId       0\n",
       "HomePlanet       87\n",
       "CryoSleep        93\n",
       "Cabin           100\n",
       "Destination      92\n",
       "Age              91\n",
       "VIP              93\n",
       "RoomService      82\n",
       "FoodCourt       106\n",
       "ShoppingMall     98\n",
       "Spa             101\n",
       "VRDeck           80\n",
       "Name             94\n",
       "dtype: int64"
      ]
     },
     "execution_count": 94,
     "metadata": {},
     "output_type": "execute_result"
    }
   ],
   "source": [
    "test_data.isna().sum()"
   ]
  },
  {
   "cell_type": "code",
   "execution_count": 4,
   "id": "27d7e364",
   "metadata": {},
   "outputs": [],
   "source": [
    "#y = train_data.pop('Transported')"
   ]
  },
  {
   "cell_type": "code",
   "execution_count": 5,
   "id": "4a45094d",
   "metadata": {},
   "outputs": [],
   "source": [
    "#tmp = train_data.loc[:1000,:].copy()\n",
    "tmp = train_data.copy()\n",
    "tmp_test = test_data.copy()\n",
    "\n",
    "tmp = tmp.dropna()\n",
    "y = tmp.pop('Transported')\n",
    "\n",
    "tmp_test = tmp_test.dropna()"
   ]
  },
  {
   "cell_type": "code",
   "execution_count": 6,
   "id": "fbf1bd55",
   "metadata": {},
   "outputs": [],
   "source": [
    "tmp = tmp.drop('Name', axis=1)\n",
    "tmp_test = tmp_test.drop('Name', axis=1)"
   ]
  },
  {
   "cell_type": "code",
   "execution_count": 7,
   "id": "61089e80",
   "metadata": {},
   "outputs": [],
   "source": [
    "tmp['CryoSleep'] = pd.get_dummies(tmp['CryoSleep'], drop_first=True).values\n",
    "tmp['VIP'] = pd.get_dummies(tmp['VIP'], drop_first=True).values\n",
    "\n",
    "tmp_test['CryoSleep'] = pd.get_dummies(tmp_test['CryoSleep'], drop_first=True).values\n",
    "tmp_test['VIP'] = pd.get_dummies(tmp_test['VIP'], drop_first=True).values"
   ]
  },
  {
   "cell_type": "code",
   "execution_count": 8,
   "id": "e1d01d8a",
   "metadata": {},
   "outputs": [],
   "source": [
    "tmp = pd.concat([tmp, pd.get_dummies(tmp['HomePlanet'])], axis=1).drop('HomePlanet', axis=1)\n",
    "tmp = pd.concat([tmp, pd.get_dummies(tmp['Destination'])], axis=1).drop('Destination', axis=1)\n",
    "tmp = pd.concat([tmp, pd.get_dummies(tmp['PassengerId'])], axis=1).drop('PassengerId', axis=1)\n",
    "tmp = pd.concat([tmp, pd.get_dummies(tmp['Cabin'])], axis=1).drop('Cabin', axis=1)\n",
    "\n",
    "tmp_test = pd.concat([tmp_test, pd.get_dummies(tmp_test['HomePlanet'])], axis=1).drop('HomePlanet', axis=1)\n",
    "tmp_test = pd.concat([tmp_test, pd.get_dummies(tmp_test['Destination'])], axis=1).drop('Destination', axis=1)\n",
    "tmp_test = pd.concat([tmp_test, pd.get_dummies(tmp_test['PassengerId'])], axis=1).drop('PassengerId', axis=1)\n",
    "tmp_test = pd.concat([tmp_test, pd.get_dummies(tmp_test['Cabin'])], axis=1).drop('Cabin', axis=1)"
   ]
  },
  {
   "cell_type": "code",
   "execution_count": 9,
   "id": "ba7fe076",
   "metadata": {},
   "outputs": [],
   "source": [
    "tmp_test = tmp_test.reindex(columns=tmp.columns, fill_value=0)"
   ]
  },
  {
   "cell_type": "code",
   "execution_count": 10,
   "id": "39490fd2",
   "metadata": {},
   "outputs": [],
   "source": [
    "from sklearn.feature_selection import SelectKBest\n",
    "from sklearn.feature_selection import chi2"
   ]
  },
  {
   "cell_type": "code",
   "execution_count": 11,
   "id": "cab1c48b",
   "metadata": {},
   "outputs": [],
   "source": [
    "y = pd.get_dummies(y, drop_first=True).values.ravel()\n",
    "x = tmp"
   ]
  },
  {
   "cell_type": "code",
   "execution_count": 12,
   "id": "332706f0",
   "metadata": {},
   "outputs": [],
   "source": [
    "sel = SelectKBest(chi2, k=1299)\n",
    "x = sel.fit_transform(x, y)\n",
    "\n",
    "# tmp_test = tmp_test.reindex(columns=range(1299), fill_value=0)\n",
    "# x_test = sel.transform(tmp_test)"
   ]
  },
  {
   "cell_type": "code",
   "execution_count": 13,
   "id": "8f7cf3db",
   "metadata": {},
   "outputs": [],
   "source": [
    "x_test = sel.transform(tmp_test)"
   ]
  },
  {
   "cell_type": "code",
   "execution_count": 14,
   "id": "a2acbdc4",
   "metadata": {},
   "outputs": [],
   "source": [
    "from sklearn.model_selection import train_test_split"
   ]
  },
  {
   "cell_type": "code",
   "execution_count": 15,
   "id": "1cdaf9a5",
   "metadata": {},
   "outputs": [],
   "source": [
    "x_train, x_val, y_train, y_val = train_test_split(x, y, test_size=.2, shuffle=True, random_state=42, stratify=y)"
   ]
  },
  {
   "cell_type": "code",
   "execution_count": 16,
   "id": "c7d87eb1",
   "metadata": {},
   "outputs": [],
   "source": [
    "# Linear \n",
    "# Linear \n",
    "from sklearn.linear_model import LogisticRegression, SGDClassifier\n",
    "from sklearn.discriminant_analysis import LinearDiscriminantAnalysis\n",
    "\n",
    "# Non-Linear\n",
    "from sklearn.neighbors import KNeighborsClassifier\n",
    "from sklearn.tree import DecisionTreeClassifier\n",
    "from sklearn.naive_bayes import GaussianNB\n",
    "from sklearn.svm import SVC\n",
    "from xgboost import XGBClassifier\n",
    "from sklearn.ensemble import (\n",
    "  AdaBoostClassifier, GradientBoostingClassifier, \n",
    "  HistGradientBoostingClassifier, \n",
    "  RandomForestClassifier, ExtraTreesClassifier\n",
    ")\n",
    "\n",
    "from sklearn.model_selection import KFold, cross_val_score\n",
    "from sklearn.pipeline import Pipeline\n",
    "from sklearn.preprocessing import StandardScaler"
   ]
  },
  {
   "cell_type": "code",
   "execution_count": 17,
   "id": "24ce6122",
   "metadata": {},
   "outputs": [],
   "source": [
    "def spot_check(a):\n",
    "  c = []\n",
    "  for i in a:\n",
    "    c.append(\n",
    "      (i[0], Pipeline([\n",
    "      (i[0], StandardScaler()),\n",
    "      (i[2][0], i[2][1])\n",
    "     ]))\n",
    "    )\n",
    "  return c"
   ]
  },
  {
   "cell_type": "code",
   "execution_count": 18,
   "id": "f13e15e2",
   "metadata": {},
   "outputs": [],
   "source": [
    "a = [\n",
    "  ('ScaledLR', 'Scalar', ('LR', LogisticRegression(class_weight='balance'))),\n",
    "  #('ScaledLDA', 'Scalar', ('LDA', LinearDiscriminantAnalysis())),\n",
    "  #('ScaledKNN', 'Scalar', ('KNN', KNeighborsClassifier())),\n",
    "  #('ScaledCART', 'Scalar', ('CART', DecisionTreeClassifier())),\n",
    "  #('ScaledSVC', 'Scalar', ('SVC', SVC())),\n",
    "  \n",
    "  #('ScaledAB', 'Scalar', ('AB', AdaBoostClassifier())),\n",
    "  #('ScaledGDM', 'Scalar', ('GDM', GradientBoostingClassifier())),\n",
    "  #('ScaledHGB', 'Scalar', ('HGB', HistGradientBoostingClassifier())),\n",
    "  #('ScaledRF', 'Scalar', ('RF', RandomForestClassifier())),\n",
    "  #('ScaledXG', 'Scalar', ('XG', XGBClassifier())),\n",
    "  #('ScaledET', 'Scalar', ('ET', ExtraTreesClassifier())),\n",
    "]\n",
    "\n",
    "pipelines = spot_check(a)"
   ]
  },
  {
   "cell_type": "code",
   "execution_count": 19,
   "id": "c0d92243",
   "metadata": {},
   "outputs": [
    {
     "name": "stdout",
     "output_type": "stream",
     "text": [
      "ScaledLR: 0.812\n"
     ]
    }
   ],
   "source": [
    "names, results = [],[]\n",
    "for name, model in pipelines:\n",
    "  cv = KFold(n_splits=15)\n",
    "  cv_results = cross_val_score(model, x_train, y_train, cv=cv, scoring='accuracy')\n",
    "  \n",
    "  results.append(cv_results)\n",
    "  names.append(name)\n",
    "  print(f\"{name}: {cv_results.mean():.3f}\")"
   ]
  },
  {
   "cell_type": "code",
   "execution_count": 20,
   "id": "7a377594",
   "metadata": {},
   "outputs": [
    {
     "data": {
      "image/png": "[encoded data removed]",
      "text/plain": [
       "<Figure size 640x480 with 1 Axes>"
      ]
     },
     "metadata": {},
     "output_type": "display_data"
    }
   ],
   "source": [
    "# Compare the algorithm\n",
    "fig = plt.figure()\n",
    "ax = fig.add_subplot()\n",
    "plt.boxplot(results)\n",
    "ax.set_xticklabels(names, rotation='vertical');"
   ]
  },
  {
   "cell_type": "code",
   "execution_count": 21,
   "id": "e530d14d",
   "metadata": {},
   "outputs": [],
   "source": [
    "from sklearn.model_selection import GridSearchCV"
   ]
  },
  {
   "cell_type": "code",
   "execution_count": 22,
   "id": "6ce019dd",
   "metadata": {},
   "outputs": [],
   "source": [
    "from sklearn.metrics import classification_report"
   ]
  },
  {
   "cell_type": "code",
   "execution_count": 23,
   "id": "b7a07131",
   "metadata": {},
   "outputs": [],
   "source": [
    "# #ScaledLR: 0.812\n",
    "\n",
    "# scalar = StandardScaler().fit(x_train)\n",
    "# scaled_x = scalar.transform(x_train)\n",
    "# param_grid = {'C': np.linspace(0.001, 2, 100)}\n",
    "# model = LogisticRegression(max_iter=1000)\n",
    "# kfold = KFold(n_splits=20)\n",
    "# grid = GridSearchCV(estimator=model, param_grid=param_grid, error_score='raise')\n",
    "# grid_result = grid.fit(scaled_x, y_train)\n",
    "# print(f\"Best: {grid_result.best_score_}, {grid_result.best_params_}\")"
   ]
  },
  {
   "cell_type": "code",
   "execution_count": 24,
   "id": "99865088",
   "metadata": {},
   "outputs": [
    {
     "name": "stdout",
     "output_type": "stream",
     "text": [
      "              precision    recall  f1-score   support\n",
      "\n",
      "           0       0.83      0.73      0.78       656\n",
      "           1       0.76      0.86      0.81       666\n",
      "\n",
      "    accuracy                           0.79      1322\n",
      "   macro avg       0.80      0.79      0.79      1322\n",
      "weighted avg       0.80      0.79      0.79      1322\n",
      "\n"
     ]
    }
   ],
   "source": [
    "scalar = StandardScaler().fit(x_train)\n",
    "scaled_x = scalar.transform(x_train)\n",
    "model = LogisticRegression(C=0.041383838383838384)\n",
    "model.fit(scaled_x, y_train)\n",
    "\n",
    "scaled_x_val = scalar.transform(x_val)\n",
    "pred = model.predict(scaled_x_val)\n",
    "print(classification_report(y_val, pred))"
   ]
  },
  {
   "cell_type": "code",
   "execution_count": 84,
   "id": "513afcda",
   "metadata": {},
   "outputs": [],
   "source": [
    "pred_test = model.predict(x_test)\n",
    "pred_test = [True if i == True else False for i in pred_test]"
   ]
  },
  {
   "cell_type": "code",
   "execution_count": 85,
   "id": "3b99c535",
   "metadata": {},
   "outputs": [],
   "source": [
    "sol = test_data.dropna()['PassengerId']"
   ]
  },
  {
   "cell_type": "code",
   "execution_count": 86,
   "id": "60079b47",
   "metadata": {},
   "outputs": [],
   "source": [
    "summit = pd.DataFrame({\n",
    "  \"PassengerId\":sol.values,\n",
    "  \"Transported\":pred_test\n",
    "})"
   ]
  },
  {
   "cell_type": "code",
   "execution_count": 87,
   "id": "666e6b0a",
   "metadata": {},
   "outputs": [],
   "source": [
    "summit.to_csv('summit.csv', index=False)"
   ]
  },
  {
   "cell_type": "code",
   "execution_count": null,
   "id": "514641cd",
   "metadata": {},
   "outputs": [],
   "source": []
  },
  {
   "cell_type": "code",
   "execution_count": null,
   "id": "d1a670b4",
   "metadata": {},
   "outputs": [],
   "source": []
  },
  {
   "cell_type": "code",
   "execution_count": null,
   "id": "f9890bfc",
   "metadata": {},
   "outputs": [],
   "source": []
  }
 ],
 "metadata": {
  "kernelspec": {
   "display_name": "Python 3",
   "language": "python",
   "name": "python3"
  },
  "language_info": {
   "codemirror_mode": {
    "name": "ipython",
    "version": 3
   },
   "file_extension": ".py",
   "mimetype": "text/x-python",
   "name": "python",
   "nbconvert_exporter": "python",
   "pygments_lexer": "ipython3",
   "version": "3.10.2"
  }
 },
 "nbformat": 4,
 "nbformat_minor": 5
}
